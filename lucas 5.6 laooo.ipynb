{
 "cells": [
  {
   "cell_type": "code",
   "execution_count": null,
   "metadata": {},
   "outputs": [],
   "source": [
    "def funcaoLeitura():\n",
    "    for i in range(5):\n",
    "        print(\"Número\", i)\n",
    "\n",
    "funcaoLeitura()"
   ]
  },
  {
   "cell_type": "code",
   "execution_count": null,
   "metadata": {},
   "outputs": [],
   "source": [
    "def addNum(n1, n2):\n",
    "    print(\"O primeiro número é: \", n1)\n",
    "    print(\"O segundo número é: \", n2)\n",
    "    print(\"A soma número é: \", n1+n2)\n",
    "    addNum(2, 3)"
   ]
  },
  {
   "cell_type": "code",
   "execution_count": null,
   "metadata": {},
   "outputs": [],
   "source": [
    "varGlobal = 10\n",
    "def multiplicacao(num1, num2):\n",
    "    varGlobal = (num1 * num2)\n",
    "    print(\"Variável de função Multiplica: \", varGlobal)\n",
    "\n",
    "multiplicacao(5, 4)\n",
    "print(varGlobal)"
   ]
  },
  {
   "cell_type": "code",
   "execution_count": null,
   "metadata": {},
   "outputs": [],
   "source": [
    "varGlobal = 10\n",
    "def multiplicacao(num1, num2):\n",
    "    varLocal = (num1 * num2)\n",
    "    print(\"Variável de função Multiplica: \", varLocal)\n",
    "\n",
    "multiplicacao(5, 4)"
   ]
  },
  {
   "cell_type": "code",
   "execution_count": null,
   "metadata": {},
   "outputs": [],
   "source": [
    "def separarTexto(texto):\n",
    "    return texto.split()\n",
    "separarTexto(\"Cibele Maria Suely\")"
   ]
  },
  {
   "cell_type": "code",
   "execution_count": null,
   "metadata": {},
   "outputs": [],
   "source": [
    "def variosParametros(*parametros):\n",
    "    for n, item in enumerate(parametros):\n",
    "        print(\"Parâmetro\", n, item)\n",
    "    return;\n",
    "variosParametros('Cibele', 'Suely', 'Giggio', 'Madá', 'Luquinhas')"
   ]
  },
  {
   "cell_type": "code",
   "execution_count": null,
   "metadata": {},
   "outputs": [],
   "source": []
  }
 ],
 "metadata": {
  "language_info": {
   "name": "python"
  }
 },
 "nbformat": 4,
 "nbformat_minor": 2
}
